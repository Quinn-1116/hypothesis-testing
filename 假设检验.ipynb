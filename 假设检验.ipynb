{
 "cells": [
  {
   "cell_type": "code",
   "execution_count": 1,
   "metadata": {},
   "outputs": [],
   "source": [
    "import pandas as pd\n",
    "from scipy import stats\n",
    "%matplotlib inline\n",
    "import statsmodels.api as sm\n",
    "from matplotlib import pyplot as plt\n",
    "import warnings \n",
    "import seaborn as sns\n",
    "warnings.filterwarnings('ignore')\n"
   ]
  },
  {
   "cell_type": "code",
   "execution_count": 2,
   "metadata": {},
   "outputs": [],
   "source": [
    "credit_card_exp = pd.read_csv('./creditcard_exp.csv',skipinitialspace = True)  \n",
    "#skipinitialspace : boolean, default False忽略分隔符后的空白（默认为False，即不忽略）."
   ]
  },
  {
   "cell_type": "code",
   "execution_count": 3,
   "metadata": {},
   "outputs": [],
   "source": [
    "credit_card_exp = credit_card_exp.dropna(how='any')"
   ]
  },
  {
   "cell_type": "code",
   "execution_count": 4,
   "metadata": {},
   "outputs": [
    {
     "data": {
      "text/html": [
       "<div>\n",
       "<style scoped>\n",
       "    .dataframe tbody tr th:only-of-type {\n",
       "        vertical-align: middle;\n",
       "    }\n",
       "\n",
       "    .dataframe tbody tr th {\n",
       "        vertical-align: top;\n",
       "    }\n",
       "\n",
       "    .dataframe thead th {\n",
       "        text-align: right;\n",
       "    }\n",
       "</style>\n",
       "<table border=\"1\" class=\"dataframe\">\n",
       "  <thead>\n",
       "    <tr style=\"text-align: right;\">\n",
       "      <th></th>\n",
       "      <th>id</th>\n",
       "      <th>Acc</th>\n",
       "      <th>avg_exp</th>\n",
       "      <th>avg_exp_ln</th>\n",
       "      <th>gender</th>\n",
       "      <th>Age</th>\n",
       "      <th>Income</th>\n",
       "      <th>Ownrent</th>\n",
       "      <th>Selfempl</th>\n",
       "      <th>dist_home_val</th>\n",
       "      <th>dist_avg_income</th>\n",
       "      <th>age2</th>\n",
       "      <th>high_avg</th>\n",
       "      <th>edu_class</th>\n",
       "    </tr>\n",
       "  </thead>\n",
       "  <tbody>\n",
       "    <tr>\n",
       "      <td>0</td>\n",
       "      <td>19</td>\n",
       "      <td>1</td>\n",
       "      <td>1217.03</td>\n",
       "      <td>7.104169</td>\n",
       "      <td>1</td>\n",
       "      <td>40</td>\n",
       "      <td>16.03515</td>\n",
       "      <td>1</td>\n",
       "      <td>1</td>\n",
       "      <td>99.93</td>\n",
       "      <td>15.932789</td>\n",
       "      <td>1600</td>\n",
       "      <td>0.102361</td>\n",
       "      <td>3</td>\n",
       "    </tr>\n",
       "    <tr>\n",
       "      <td>1</td>\n",
       "      <td>5</td>\n",
       "      <td>1</td>\n",
       "      <td>1251.50</td>\n",
       "      <td>7.132098</td>\n",
       "      <td>1</td>\n",
       "      <td>32</td>\n",
       "      <td>15.84750</td>\n",
       "      <td>1</td>\n",
       "      <td>0</td>\n",
       "      <td>49.88</td>\n",
       "      <td>15.796316</td>\n",
       "      <td>1024</td>\n",
       "      <td>0.051184</td>\n",
       "      <td>2</td>\n",
       "    </tr>\n",
       "    <tr>\n",
       "      <td>3</td>\n",
       "      <td>86</td>\n",
       "      <td>1</td>\n",
       "      <td>856.57</td>\n",
       "      <td>6.752936</td>\n",
       "      <td>1</td>\n",
       "      <td>41</td>\n",
       "      <td>11.47285</td>\n",
       "      <td>1</td>\n",
       "      <td>0</td>\n",
       "      <td>16.10</td>\n",
       "      <td>11.275632</td>\n",
       "      <td>1681</td>\n",
       "      <td>0.197218</td>\n",
       "      <td>3</td>\n",
       "    </tr>\n",
       "    <tr>\n",
       "      <td>4</td>\n",
       "      <td>50</td>\n",
       "      <td>1</td>\n",
       "      <td>1321.83</td>\n",
       "      <td>7.186772</td>\n",
       "      <td>1</td>\n",
       "      <td>28</td>\n",
       "      <td>13.40915</td>\n",
       "      <td>1</td>\n",
       "      <td>0</td>\n",
       "      <td>100.39</td>\n",
       "      <td>13.346474</td>\n",
       "      <td>784</td>\n",
       "      <td>0.062676</td>\n",
       "      <td>2</td>\n",
       "    </tr>\n",
       "    <tr>\n",
       "      <td>5</td>\n",
       "      <td>67</td>\n",
       "      <td>1</td>\n",
       "      <td>816.03</td>\n",
       "      <td>6.704451</td>\n",
       "      <td>1</td>\n",
       "      <td>41</td>\n",
       "      <td>10.03015</td>\n",
       "      <td>0</td>\n",
       "      <td>1</td>\n",
       "      <td>119.76</td>\n",
       "      <td>10.332263</td>\n",
       "      <td>1681</td>\n",
       "      <td>-0.302113</td>\n",
       "      <td>3</td>\n",
       "    </tr>\n",
       "  </tbody>\n",
       "</table>\n",
       "</div>"
      ],
      "text/plain": [
       "   id  Acc  avg_exp  avg_exp_ln  gender  Age    Income  Ownrent  Selfempl  \\\n",
       "0  19    1  1217.03    7.104169       1   40  16.03515        1         1   \n",
       "1   5    1  1251.50    7.132098       1   32  15.84750        1         0   \n",
       "3  86    1   856.57    6.752936       1   41  11.47285        1         0   \n",
       "4  50    1  1321.83    7.186772       1   28  13.40915        1         0   \n",
       "5  67    1   816.03    6.704451       1   41  10.03015        0         1   \n",
       "\n",
       "   dist_home_val  dist_avg_income  age2  high_avg  edu_class  \n",
       "0          99.93        15.932789  1600  0.102361          3  \n",
       "1          49.88        15.796316  1024  0.051184          2  \n",
       "3          16.10        11.275632  1681  0.197218          3  \n",
       "4         100.39        13.346474   784  0.062676          2  \n",
       "5         119.76        10.332263  1681 -0.302113          3  "
      ]
     },
     "execution_count": 4,
     "metadata": {},
     "output_type": "execute_result"
    }
   ],
   "source": [
    "credit_card_exp.head()"
   ]
  },
  {
   "cell_type": "code",
   "execution_count": 5,
   "metadata": {},
   "outputs": [
    {
     "data": {
      "text/html": [
       "<div>\n",
       "<style scoped>\n",
       "    .dataframe tbody tr th:only-of-type {\n",
       "        vertical-align: middle;\n",
       "    }\n",
       "\n",
       "    .dataframe tbody tr th {\n",
       "        vertical-align: top;\n",
       "    }\n",
       "\n",
       "    .dataframe thead th {\n",
       "        text-align: right;\n",
       "    }\n",
       "</style>\n",
       "<table border=\"1\" class=\"dataframe\">\n",
       "  <thead>\n",
       "    <tr style=\"text-align: right;\">\n",
       "      <th></th>\n",
       "      <th>count</th>\n",
       "      <th>mean</th>\n",
       "      <th>std</th>\n",
       "      <th>min</th>\n",
       "      <th>25%</th>\n",
       "      <th>50%</th>\n",
       "      <th>75%</th>\n",
       "      <th>max</th>\n",
       "    </tr>\n",
       "    <tr>\n",
       "      <th>gender</th>\n",
       "      <th></th>\n",
       "      <th></th>\n",
       "      <th></th>\n",
       "      <th></th>\n",
       "      <th></th>\n",
       "      <th></th>\n",
       "      <th></th>\n",
       "      <th></th>\n",
       "    </tr>\n",
       "  </thead>\n",
       "  <tbody>\n",
       "    <tr>\n",
       "      <td>0</td>\n",
       "      <td>50.0</td>\n",
       "      <td>925.7052</td>\n",
       "      <td>430.833365</td>\n",
       "      <td>163.18</td>\n",
       "      <td>593.3125</td>\n",
       "      <td>813.650</td>\n",
       "      <td>1204.7775</td>\n",
       "      <td>1992.39</td>\n",
       "    </tr>\n",
       "    <tr>\n",
       "      <td>1</td>\n",
       "      <td>20.0</td>\n",
       "      <td>1128.5310</td>\n",
       "      <td>462.281389</td>\n",
       "      <td>648.15</td>\n",
       "      <td>829.8600</td>\n",
       "      <td>1020.005</td>\n",
       "      <td>1238.2025</td>\n",
       "      <td>2430.03</td>\n",
       "    </tr>\n",
       "  </tbody>\n",
       "</table>\n",
       "</div>"
      ],
      "text/plain": [
       "        count       mean         std     min       25%       50%        75%  \\\n",
       "gender                                                                        \n",
       "0        50.0   925.7052  430.833365  163.18  593.3125   813.650  1204.7775   \n",
       "1        20.0  1128.5310  462.281389  648.15  829.8600  1020.005  1238.2025   \n",
       "\n",
       "            max  \n",
       "gender           \n",
       "0       1992.39  \n",
       "1       2430.03  "
      ]
     },
     "execution_count": 5,
     "metadata": {},
     "output_type": "execute_result"
    }
   ],
   "source": [
    "credit_card_exp.avg_exp.groupby(credit_card_exp.gender).describe()"
   ]
  },
  {
   "cell_type": "markdown",
   "metadata": {},
   "source": [
    "可以看到男性（0）信用卡平均数为925.7，女性（1）信用卡消费平均数为1129，显然男女信用卡消费是有差异的，接下来可以使用双样本t检验查看这种差异是否显著"
   ]
  },
  {
   "cell_type": "markdown",
   "metadata": {},
   "source": [
    "在使用双样本t检验前，有三个基本条件需要被考虑：\n",
    "\n",
    "    a.观测之间独立\n",
    "    b.两组均服从正态分布\n",
    "    c.两组样本的方差是否相同，视其是否相同采用不同的统计两进行检验\n",
    "\n",
    "因此在进行双样本t检验前需要进行方差齐性经验。\n",
    "\n",
    "    方差齐性检验的原假设为两组样本方差相同，检验的统计量F由两组样本方差中的最大值除以最小值得到，可以证明该统计量服从F分布，若抽样结果计算的F值在分布曲线的小概率区间内，意味着差异显著（即两样本方差不同），拒绝原假设，反之相反。"
   ]
  },
  {
   "cell_type": "markdown",
   "metadata": {},
   "source": [
    "综上所述：双样本t检验的流程如下：\n",
    "    \n",
    "    1.获取两组样本数据，计算其均值；\n",
    "    \n",
    "    2.进行方差齐性检验；\n",
    "    \n",
    "    3.若方差齐，进行方差齐的双样本t检验，若不齐，进行方差不齐的双样本t检验。\n",
    "    \n",
    "下面继续研究信用卡消费与性别的关系，先进行方差齐性检验如下："
   ]
  },
  {
   "cell_type": "code",
   "execution_count": 6,
   "metadata": {},
   "outputs": [],
   "source": [
    "gender_0 = credit_card_exp[credit_card_exp.gender == 0]['avg_exp']\n",
    "gender_1 = credit_card_exp[credit_card_exp.gender == 1]['avg_exp']"
   ]
  },
  {
   "cell_type": "code",
   "execution_count": 7,
   "metadata": {},
   "outputs": [],
   "source": [
    "leveneTestres = stats.levene(gender_0,gender_1,center = 'median')"
   ]
  },
  {
   "cell_type": "markdown",
   "metadata": {},
   "source": [
    "Levene检验检验所有输入样本均来自方差相等的原假设;\n",
    "\n",
    "'median'：建议用于偏斜（非正态）分布>\n",
    "\n",
    "'mean'：建议用于对称，中尾分布。\n",
    "\n",
    "'trimmed'：建议用于重尾分布。"
   ]
  },
  {
   "cell_type": "code",
   "execution_count": 8,
   "metadata": {},
   "outputs": [
    {
     "name": "stdout",
     "output_type": "stream",
     "text": [
      "w-value = 0.0683,p-value = 0.7946\n"
     ]
    }
   ],
   "source": [
    "print('w-value = %6.4f,p-value = %6.4f'%leveneTestres)"
   ]
  },
  {
   "cell_type": "markdown",
   "metadata": {},
   "source": [
    "首先进行方差齐性检验，发现p值是0.6702，不能拒绝原假设，即男性消费样本与女性消费样本的方差是相同的。因此进行方差齐性的双样本t检验："
   ]
  },
  {
   "cell_type": "code",
   "execution_count": 9,
   "metadata": {},
   "outputs": [
    {
     "data": {
      "text/plain": [
       "Ttest_indResult(statistic=-1.742901386808629, pvalue=0.08587122878448449)"
      ]
     },
     "execution_count": 9,
     "metadata": {},
     "output_type": "execute_result"
    }
   ],
   "source": [
    "stats.stats.ttest_ind(gender_0,gender_1,equal_var = True)"
   ]
  },
  {
   "cell_type": "markdown",
   "metadata": {},
   "source": [
    "scipy.stats.ttest_ind（a，b，axis = 0，equal_var = True，nan_policy ='propagate' ）\n",
    "\n",
    "计算两个独立样本得分的平均值的T检验。\n",
    "\n",
    "这是针对零假设（两个独立样本具有相同的平均（预期）值）的原边检验。该测试假定总体上默认具有相同的方差\n",
    "\n",
    "进行双样本t检验，并设定方差齐（参数equal_var = True），结果表明p值为0.08，若以0.05为显著性水平，说明男\n",
    "性与女性在信用卡消费上无显著差异"
   ]
  },
  {
   "cell_type": "markdown",
   "metadata": {},
   "source": [
    "# 6.4 方差分析"
   ]
  },
  {
   "cell_type": "markdown",
   "metadata": {},
   "source": [
    "# 6.4.1单因素方差分析（分类变量和连续变量的关系检验）"
   ]
  },
  {
   "cell_type": "markdown",
   "metadata": {},
   "source": [
    "方差分析用于检验多个样本的均值是否有显著差异，所以其用于分析多余两个分类的分类变量与连续变量的关系。"
   ]
  },
  {
   "cell_type": "markdown",
   "metadata": {},
   "source": [
    "研究行用卡的消费是否受教育程度影响，可以使用单因素方差分析，其前提条件与双样本t检验相似：\n",
    "    \n",
    "    1.获取两组样本数据，计算其均值；\n",
    "    \n",
    "    2.进行方差齐性检验；\n",
    "    \n",
    "    3.若方差齐，进行方差齐的双样本t检验，若不齐，进行方差不齐的双样本t检验。\n",
    "    \n",
    "需要注意的是在方差分析中，原假设为所有组的方差相等，备择假设为至少有两组方差不等。"
   ]
  },
  {
   "cell_type": "markdown",
   "metadata": {},
   "source": [
    "数据的总误差 = 组内误差 + 组间误差"
   ]
  },
  {
   "cell_type": "markdown",
   "metadata": {},
   "source": [
    "在Python中进行单因素方差分析可以使用下列方法："
   ]
  },
  {
   "cell_type": "code",
   "execution_count": 10,
   "metadata": {},
   "outputs": [
    {
     "data": {
      "text/plain": [
       "F_onewayResult(statistic=31.825683356937645, pvalue=7.658361691248968e-13)"
      ]
     },
     "execution_count": 10,
     "metadata": {},
     "output_type": "execute_result"
    }
   ],
   "source": [
    "edu = []\n",
    "for i in range(4):\n",
    "    edu.append(credit_card_exp[credit_card_exp.edu_class == i]['avg_exp'])\n",
    "stats.f_oneway(*edu)"
   ]
  },
  {
   "cell_type": "markdown",
   "metadata": {},
   "source": [
    "scipy.stats.f_oneway(*args)\n",
    "\n",
    "Performs a 1-way ANOVA."
   ]
  },
  {
   "cell_type": "markdown",
   "metadata": {},
   "source": [
    "从结果上看，F值为31.8，p值接近与0，所以拒绝原假设，即教育程度会显著影响信用卡的消费。"
   ]
  },
  {
   "cell_type": "markdown",
   "metadata": {},
   "source": [
    "# 6.4.2多因素方差分析"
   ]
  },
  {
   "cell_type": "markdown",
   "metadata": {},
   "source": [
    "单因素方差分析可以检验一个分类变量与一个连续变量之间的关系（教育程度为分类变量，消费额为连续变量），多因素方差分析可以检验多个分类变量与一个连续变量的关系"
   ]
  },
  {
   "cell_type": "markdown",
   "metadata": {},
   "source": [
    "# 有交互作用的多因素方差分析"
   ]
  },
  {
   "cell_type": "markdown",
   "metadata": {},
   "source": [
    "    多个因素搭配在一起会对因变量产生一种新的效应"
   ]
  },
  {
   "cell_type": "markdown",
   "metadata": {},
   "source": [
    "下面是一个关于信用卡消费与性别、教育程度的关系的实例：\n",
    "    \n",
    "    首先考虑无交互作用，代码如下："
   ]
  },
  {
   "cell_type": "code",
   "execution_count": 11,
   "metadata": {},
   "outputs": [],
   "source": [
    "from statsmodels.formula.api import ols\n",
    "ana = ols('avg_exp ~ C(edu_class) + C(gender)',data = credit_card_exp).fit()"
   ]
  },
  {
   "cell_type": "code",
   "execution_count": 12,
   "metadata": {},
   "outputs": [
    {
     "data": {
      "text/html": [
       "<div>\n",
       "<style scoped>\n",
       "    .dataframe tbody tr th:only-of-type {\n",
       "        vertical-align: middle;\n",
       "    }\n",
       "\n",
       "    .dataframe tbody tr th {\n",
       "        vertical-align: top;\n",
       "    }\n",
       "\n",
       "    .dataframe thead th {\n",
       "        text-align: right;\n",
       "    }\n",
       "</style>\n",
       "<table border=\"1\" class=\"dataframe\">\n",
       "  <thead>\n",
       "    <tr style=\"text-align: right;\">\n",
       "      <th></th>\n",
       "      <th>df</th>\n",
       "      <th>sum_sq</th>\n",
       "      <th>mean_sq</th>\n",
       "      <th>F</th>\n",
       "      <th>PR(&gt;F)</th>\n",
       "    </tr>\n",
       "  </thead>\n",
       "  <tbody>\n",
       "    <tr>\n",
       "      <td>C(edu_class)</td>\n",
       "      <td>3.0</td>\n",
       "      <td>8.126056e+06</td>\n",
       "      <td>2.708685e+06</td>\n",
       "      <td>31.578365</td>\n",
       "      <td>1.031496e-12</td>\n",
       "    </tr>\n",
       "    <tr>\n",
       "      <td>C(gender)</td>\n",
       "      <td>1.0</td>\n",
       "      <td>4.178273e+04</td>\n",
       "      <td>4.178273e+04</td>\n",
       "      <td>0.487111</td>\n",
       "      <td>4.877082e-01</td>\n",
       "    </tr>\n",
       "    <tr>\n",
       "      <td>Residual</td>\n",
       "      <td>65.0</td>\n",
       "      <td>5.575481e+06</td>\n",
       "      <td>8.577662e+04</td>\n",
       "      <td>NaN</td>\n",
       "      <td>NaN</td>\n",
       "    </tr>\n",
       "  </tbody>\n",
       "</table>\n",
       "</div>"
      ],
      "text/plain": [
       "                df        sum_sq       mean_sq          F        PR(>F)\n",
       "C(edu_class)   3.0  8.126056e+06  2.708685e+06  31.578365  1.031496e-12\n",
       "C(gender)      1.0  4.178273e+04  4.178273e+04   0.487111  4.877082e-01\n",
       "Residual      65.0  5.575481e+06  8.577662e+04        NaN           NaN"
      ]
     },
     "execution_count": 12,
     "metadata": {},
     "output_type": "execute_result"
    }
   ],
   "source": [
    "sm.stats.anova_lm(ana)"
   ]
  },
  {
   "cell_type": "markdown",
   "metadata": {},
   "source": [
    "单因素方差分析的结果可以看到不同教育程度的平均支出存在差异，而性别对支出则没有显著差异"
   ]
  },
  {
   "cell_type": "markdown",
   "metadata": {},
   "source": [
    "接下来进行加入交互项的方差分析：\n",
    "    \n",
    "    代码如下："
   ]
  },
  {
   "cell_type": "code",
   "execution_count": 13,
   "metadata": {},
   "outputs": [
    {
     "data": {
      "text/html": [
       "<div>\n",
       "<style scoped>\n",
       "    .dataframe tbody tr th:only-of-type {\n",
       "        vertical-align: middle;\n",
       "    }\n",
       "\n",
       "    .dataframe tbody tr th {\n",
       "        vertical-align: top;\n",
       "    }\n",
       "\n",
       "    .dataframe thead th {\n",
       "        text-align: right;\n",
       "    }\n",
       "</style>\n",
       "<table border=\"1\" class=\"dataframe\">\n",
       "  <thead>\n",
       "    <tr style=\"text-align: right;\">\n",
       "      <th></th>\n",
       "      <th>df</th>\n",
       "      <th>sum_sq</th>\n",
       "      <th>mean_sq</th>\n",
       "      <th>F</th>\n",
       "      <th>PR(&gt;F)</th>\n",
       "    </tr>\n",
       "  </thead>\n",
       "  <tbody>\n",
       "    <tr>\n",
       "      <td>C(edu_class)</td>\n",
       "      <td>3.0</td>\n",
       "      <td>8.126056e+06</td>\n",
       "      <td>2.708685e+06</td>\n",
       "      <td>33.839350</td>\n",
       "      <td>3.753889e-13</td>\n",
       "    </tr>\n",
       "    <tr>\n",
       "      <td>C(gender)</td>\n",
       "      <td>1.0</td>\n",
       "      <td>4.178273e+04</td>\n",
       "      <td>4.178273e+04</td>\n",
       "      <td>0.521988</td>\n",
       "      <td>4.726685e-01</td>\n",
       "    </tr>\n",
       "    <tr>\n",
       "      <td>C(edu_class):C(gender)</td>\n",
       "      <td>3.0</td>\n",
       "      <td>5.355799e+05</td>\n",
       "      <td>1.785266e+05</td>\n",
       "      <td>2.230316</td>\n",
       "      <td>9.333507e-02</td>\n",
       "    </tr>\n",
       "    <tr>\n",
       "      <td>Residual</td>\n",
       "      <td>63.0</td>\n",
       "      <td>5.042862e+06</td>\n",
       "      <td>8.004544e+04</td>\n",
       "      <td>NaN</td>\n",
       "      <td>NaN</td>\n",
       "    </tr>\n",
       "  </tbody>\n",
       "</table>\n",
       "</div>"
      ],
      "text/plain": [
       "                          df        sum_sq       mean_sq          F  \\\n",
       "C(edu_class)             3.0  8.126056e+06  2.708685e+06  33.839350   \n",
       "C(gender)                1.0  4.178273e+04  4.178273e+04   0.521988   \n",
       "C(edu_class):C(gender)   3.0  5.355799e+05  1.785266e+05   2.230316   \n",
       "Residual                63.0  5.042862e+06  8.004544e+04        NaN   \n",
       "\n",
       "                              PR(>F)  \n",
       "C(edu_class)            3.753889e-13  \n",
       "C(gender)               4.726685e-01  \n",
       "C(edu_class):C(gender)  9.333507e-02  \n",
       "Residual                         NaN  "
      ]
     },
     "execution_count": 13,
     "metadata": {},
     "output_type": "execute_result"
    }
   ],
   "source": [
    "ana1 = ols('avg_exp ~ C(edu_class) + C(gender) + C(edu_class)*C(gender)',data = credit_card_exp).fit()\n",
    "sm.stats.anova_lm(ana1)"
   ]
  },
  {
   "cell_type": "markdown",
   "metadata": {},
   "source": [
    "可以看到教育程度与性别的交互项对平均支出的影响是显著的。将ana1的基本信息输出："
   ]
  },
  {
   "cell_type": "code",
   "execution_count": 14,
   "metadata": {},
   "outputs": [
    {
     "data": {
      "text/html": [
       "<table class=\"simpletable\">\n",
       "<caption>OLS Regression Results</caption>\n",
       "<tr>\n",
       "  <th>Dep. Variable:</th>         <td>avg_exp</td>     <th>  R-squared:         </th> <td>   0.633</td>\n",
       "</tr>\n",
       "<tr>\n",
       "  <th>Model:</th>                   <td>OLS</td>       <th>  Adj. R-squared:    </th> <td>   0.598</td>\n",
       "</tr>\n",
       "<tr>\n",
       "  <th>Method:</th>             <td>Least Squares</td>  <th>  F-statistic:       </th> <td>   18.12</td>\n",
       "</tr>\n",
       "<tr>\n",
       "  <th>Date:</th>             <td>Sun, 08 Mar 2020</td> <th>  Prob (F-statistic):</th> <td>4.35e-12</td>\n",
       "</tr>\n",
       "<tr>\n",
       "  <th>Time:</th>                 <td>22:18:37</td>     <th>  Log-Likelihood:    </th> <td> -490.80</td>\n",
       "</tr>\n",
       "<tr>\n",
       "  <th>No. Observations:</th>      <td>    70</td>      <th>  AIC:               </th> <td>   995.6</td>\n",
       "</tr>\n",
       "<tr>\n",
       "  <th>Df Residuals:</th>          <td>    63</td>      <th>  BIC:               </th> <td>   1011.</td>\n",
       "</tr>\n",
       "<tr>\n",
       "  <th>Df Model:</th>              <td>     6</td>      <th>                     </th>     <td> </td>   \n",
       "</tr>\n",
       "<tr>\n",
       "  <th>Covariance Type:</th>      <td>nonrobust</td>    <th>                     </th>     <td> </td>   \n",
       "</tr>\n",
       "</table>\n",
       "<table class=\"simpletable\">\n",
       "<tr>\n",
       "                  <td></td>                    <th>coef</th>     <th>std err</th>      <th>t</th>      <th>P>|t|</th>  <th>[0.025</th>    <th>0.975]</th>  \n",
       "</tr>\n",
       "<tr>\n",
       "  <th>Intercept</th>                        <td>  207.3700</td> <td>  200.057</td> <td>    1.037</td> <td> 0.304</td> <td> -192.412</td> <td>  607.152</td>\n",
       "</tr>\n",
       "<tr>\n",
       "  <th>C(edu_class)[T.1]</th>                <td>  417.8090</td> <td>  209.367</td> <td>    1.996</td> <td> 0.050</td> <td>   -0.577</td> <td>  836.195</td>\n",
       "</tr>\n",
       "<tr>\n",
       "  <th>C(edu_class)[T.2]</th>                <td>  732.2613</td> <td>  212.977</td> <td>    3.438</td> <td> 0.001</td> <td>  306.661</td> <td> 1157.861</td>\n",
       "</tr>\n",
       "<tr>\n",
       "  <th>C(edu_class)[T.3]</th>                <td> 1346.5708</td> <td>  216.086</td> <td>    6.232</td> <td> 0.000</td> <td>  914.757</td> <td> 1778.384</td>\n",
       "</tr>\n",
       "<tr>\n",
       "  <th>C(gender)[T.1]</th>                   <td>   -0.0168</td> <td>   67.939</td> <td>   -0.000</td> <td> 1.000</td> <td> -135.782</td> <td>  135.749</td>\n",
       "</tr>\n",
       "<tr>\n",
       "  <th>C(edu_class)[T.1]:C(gender)[T.1]</th> <td>  192.7428</td> <td>  162.889</td> <td>    1.183</td> <td> 0.241</td> <td> -132.765</td> <td>  518.251</td>\n",
       "</tr>\n",
       "<tr>\n",
       "  <th>C(edu_class)[T.2]:C(gender)[T.1]</th> <td>   96.8755</td> <td>  110.846</td> <td>    0.874</td> <td> 0.385</td> <td> -124.632</td> <td>  318.383</td>\n",
       "</tr>\n",
       "<tr>\n",
       "  <th>C(edu_class)[T.3]:C(gender)[T.1]</th> <td> -289.6350</td> <td>  109.331</td> <td>   -2.649</td> <td> 0.010</td> <td> -508.115</td> <td>  -71.155</td>\n",
       "</tr>\n",
       "</table>\n",
       "<table class=\"simpletable\">\n",
       "<tr>\n",
       "  <th>Omnibus:</th>       <td>35.697</td> <th>  Durbin-Watson:     </th> <td>   2.331</td>\n",
       "</tr>\n",
       "<tr>\n",
       "  <th>Prob(Omnibus):</th> <td> 0.000</td> <th>  Jarque-Bera (JB):  </th> <td>  98.497</td>\n",
       "</tr>\n",
       "<tr>\n",
       "  <th>Skew:</th>          <td> 1.590</td> <th>  Prob(JB):          </th> <td>4.09e-22</td>\n",
       "</tr>\n",
       "<tr>\n",
       "  <th>Kurtosis:</th>      <td> 7.864</td> <th>  Cond. No.          </th> <td>2.12e+16</td>\n",
       "</tr>\n",
       "</table><br/><br/>Warnings:<br/>[1] Standard Errors assume that the covariance matrix of the errors is correctly specified.<br/>[2] The smallest eigenvalue is 2.28e-31. This might indicate that there are<br/>strong multicollinearity problems or that the design matrix is singular."
      ],
      "text/plain": [
       "<class 'statsmodels.iolib.summary.Summary'>\n",
       "\"\"\"\n",
       "                            OLS Regression Results                            \n",
       "==============================================================================\n",
       "Dep. Variable:                avg_exp   R-squared:                       0.633\n",
       "Model:                            OLS   Adj. R-squared:                  0.598\n",
       "Method:                 Least Squares   F-statistic:                     18.12\n",
       "Date:                Sun, 08 Mar 2020   Prob (F-statistic):           4.35e-12\n",
       "Time:                        22:18:37   Log-Likelihood:                -490.80\n",
       "No. Observations:                  70   AIC:                             995.6\n",
       "Df Residuals:                      63   BIC:                             1011.\n",
       "Df Model:                           6                                         \n",
       "Covariance Type:            nonrobust                                         \n",
       "====================================================================================================\n",
       "                                       coef    std err          t      P>|t|      [0.025      0.975]\n",
       "----------------------------------------------------------------------------------------------------\n",
       "Intercept                          207.3700    200.057      1.037      0.304    -192.412     607.152\n",
       "C(edu_class)[T.1]                  417.8090    209.367      1.996      0.050      -0.577     836.195\n",
       "C(edu_class)[T.2]                  732.2613    212.977      3.438      0.001     306.661    1157.861\n",
       "C(edu_class)[T.3]                 1346.5708    216.086      6.232      0.000     914.757    1778.384\n",
       "C(gender)[T.1]                      -0.0168     67.939     -0.000      1.000    -135.782     135.749\n",
       "C(edu_class)[T.1]:C(gender)[T.1]   192.7428    162.889      1.183      0.241    -132.765     518.251\n",
       "C(edu_class)[T.2]:C(gender)[T.1]    96.8755    110.846      0.874      0.385    -124.632     318.383\n",
       "C(edu_class)[T.3]:C(gender)[T.1]  -289.6350    109.331     -2.649      0.010    -508.115     -71.155\n",
       "==============================================================================\n",
       "Omnibus:                       35.697   Durbin-Watson:                   2.331\n",
       "Prob(Omnibus):                  0.000   Jarque-Bera (JB):               98.497\n",
       "Skew:                           1.590   Prob(JB):                     4.09e-22\n",
       "Kurtosis:                       7.864   Cond. No.                     2.12e+16\n",
       "==============================================================================\n",
       "\n",
       "Warnings:\n",
       "[1] Standard Errors assume that the covariance matrix of the errors is correctly specified.\n",
       "[2] The smallest eigenvalue is 2.28e-31. This might indicate that there are\n",
       "strong multicollinearity problems or that the design matrix is singular.\n",
       "\"\"\""
      ]
     },
     "execution_count": 14,
     "metadata": {},
     "output_type": "execute_result"
    }
   ],
   "source": [
    "ana1.summary()"
   ]
  },
  {
   "cell_type": "markdown",
   "metadata": {},
   "source": [
    "# 6.5 相关分析（两连续变量关系检验）"
   ]
  },
  {
   "cell_type": "markdown",
   "metadata": {},
   "source": [
    "下面的示例用于探索信用卡消费与收入之间的相关关系，代码如下所示："
   ]
  },
  {
   "cell_type": "code",
   "execution_count": 15,
   "metadata": {},
   "outputs": [
    {
     "data": {
      "text/html": [
       "<div>\n",
       "<style scoped>\n",
       "    .dataframe tbody tr th:only-of-type {\n",
       "        vertical-align: middle;\n",
       "    }\n",
       "\n",
       "    .dataframe tbody tr th {\n",
       "        vertical-align: top;\n",
       "    }\n",
       "\n",
       "    .dataframe thead th {\n",
       "        text-align: right;\n",
       "    }\n",
       "</style>\n",
       "<table border=\"1\" class=\"dataframe\">\n",
       "  <thead>\n",
       "    <tr style=\"text-align: right;\">\n",
       "      <th></th>\n",
       "      <th>Income</th>\n",
       "      <th>avg_exp</th>\n",
       "    </tr>\n",
       "  </thead>\n",
       "  <tbody>\n",
       "    <tr>\n",
       "      <td>Income</td>\n",
       "      <td>1.000000</td>\n",
       "      <td>0.674011</td>\n",
       "    </tr>\n",
       "    <tr>\n",
       "      <td>avg_exp</td>\n",
       "      <td>0.674011</td>\n",
       "      <td>1.000000</td>\n",
       "    </tr>\n",
       "  </tbody>\n",
       "</table>\n",
       "</div>"
      ],
      "text/plain": [
       "           Income   avg_exp\n",
       "Income   1.000000  0.674011\n",
       "avg_exp  0.674011  1.000000"
      ]
     },
     "execution_count": 15,
     "metadata": {},
     "output_type": "execute_result"
    }
   ],
   "source": [
    "credit_card_exp[['Income','avg_exp']].corr(method='pearson')"
   ]
  },
  {
   "cell_type": "markdown",
   "metadata": {},
   "source": [
    "使用corr函数进行相关分析，从输出结果可以看出，相关系数为0.674，其中method参数除可以指定'pearson'外，还可以指定'spearman'和'kendall'.本例输出的散点图如图6.22所示，从途中可以看出两者具有一定的相关关系"
   ]
  },
  {
   "cell_type": "code",
   "execution_count": 16,
   "metadata": {},
   "outputs": [
    {
     "data": {
      "text/plain": [
       "<matplotlib.axes._subplots.AxesSubplot at 0x119c6fd50>"
      ]
     },
     "execution_count": 16,
     "metadata": {},
     "output_type": "execute_result"
    },
    {
     "data": {
      "image/png": "[encoded data removed]",
      "text/plain": [
       "<Figure size 432x288 with 1 Axes>"
      ]
     },
     "metadata": {
      "needs_background": "light"
     },
     "output_type": "display_data"
    }
   ],
   "source": [
    "credit_card_exp.plot(x = 'Income',y = 'avg_exp',kind = 'scatter')"
   ]
  },
  {
   "cell_type": "markdown",
   "metadata": {},
   "source": [
    "# 6.5.2 散点矩阵图"
   ]
  },
  {
   "cell_type": "markdown",
   "metadata": {},
   "source": [
    "散点矩阵图是由两两变量组合构成的散点图形成的矩阵。从中可以看出两两变量间的相关性，还可以通过其中的线性拟合线查看其中线性或非线性的变化规律"
   ]
  },
  {
   "cell_type": "code",
   "execution_count": 17,
   "metadata": {},
   "outputs": [
    {
     "data": {
      "image/png": "[encoded data removed]",
      "text/plain": [
       "<Figure size 900x900 with 30 Axes>"
      ]
     },
     "metadata": {
      "needs_background": "light"
     },
     "output_type": "display_data"
    }
   ],
   "source": [
    "sns.pairplot(credit_card_exp[['avg_exp','Age','Income',\n",
    "                             'dist_home_val','dist_avg_income']])\n",
    "plt.show()"
   ]
  },
  {
   "cell_type": "markdown",
   "metadata": {},
   "source": [
    "接下来还可以通过参数'hue'指定分组变量，这里指定的分组变量是gender（性别）："
   ]
  },
  {
   "cell_type": "code",
   "execution_count": 18,
   "metadata": {},
   "outputs": [
    {
     "data": {
      "image/png": "[encoded data removed]",
      "text/plain": [
       "<Figure size 691.5x648 with 42 Axes>"
      ]
     },
     "metadata": {
      "needs_background": "light"
     },
     "output_type": "display_data"
    }
   ],
   "source": [
    "sns.pairplot(credit_card_exp[['avg_exp','Age','Income',\n",
    "                             'dist_home_val','dist_avg_income','gender']],\n",
    "            hue = 'gender',kind = 'reg',diag_kind='hist',size = 1.5)\n",
    "plt.show()"
   ]
  },
  {
   "cell_type": "markdown",
   "metadata": {},
   "source": [
    "## 6.6卡方检验（两分类变量关系检验）"
   ]
  },
  {
   "cell_type": "markdown",
   "metadata": {},
   "source": [
    "列联表是一种常见的分类汇总表，该表将待分析的两分类变量中的一个变量的每一个类别设为列变量，另一个变量设为行变量，中间对应着不同变量不同类别下的频数，如下图所示："
   ]
  },
  {
   "cell_type": "markdown",
   "metadata": {},
   "source": [
    "![jupyter](./卡方检验.jpg)"
   ]
  },
  {
   "cell_type": "markdown",
   "metadata": {},
   "source": [
    "本案例生成了一个2行2列的列联表（不包括汇总的行和列，）代码如下："
   ]
  },
  {
   "cell_type": "code",
   "execution_count": 20,
   "metadata": {},
   "outputs": [
    {
     "data": {
      "text/html": [
       "<div>\n",
       "<style scoped>\n",
       "    .dataframe tbody tr th:only-of-type {\n",
       "        vertical-align: middle;\n",
       "    }\n",
       "\n",
       "    .dataframe tbody tr th {\n",
       "        vertical-align: top;\n",
       "    }\n",
       "\n",
       "    .dataframe thead th {\n",
       "        text-align: right;\n",
       "    }\n",
       "</style>\n",
       "<table border=\"1\" class=\"dataframe\">\n",
       "  <thead>\n",
       "    <tr style=\"text-align: right;\">\n",
       "      <th></th>\n",
       "      <th>application_id</th>\n",
       "      <th>account_number</th>\n",
       "      <th>bad_ind</th>\n",
       "      <th>vehicle_year</th>\n",
       "      <th>vehicle_make</th>\n",
       "      <th>bankruptcy_ind</th>\n",
       "      <th>tot_derog</th>\n",
       "      <th>tot_tr</th>\n",
       "      <th>age_oldest_tr</th>\n",
       "      <th>tot_open_tr</th>\n",
       "      <th>...</th>\n",
       "      <th>purch_price</th>\n",
       "      <th>msrp</th>\n",
       "      <th>down_pyt</th>\n",
       "      <th>loan_term</th>\n",
       "      <th>loan_amt</th>\n",
       "      <th>ltv</th>\n",
       "      <th>tot_income</th>\n",
       "      <th>veh_mileage</th>\n",
       "      <th>used_ind</th>\n",
       "      <th>weight</th>\n",
       "    </tr>\n",
       "  </thead>\n",
       "  <tbody>\n",
       "    <tr>\n",
       "      <td>0</td>\n",
       "      <td>2314049</td>\n",
       "      <td>11613</td>\n",
       "      <td>1</td>\n",
       "      <td>1998.0</td>\n",
       "      <td>FORD</td>\n",
       "      <td>N</td>\n",
       "      <td>7.0</td>\n",
       "      <td>9.0</td>\n",
       "      <td>64.0</td>\n",
       "      <td>2.0</td>\n",
       "      <td>...</td>\n",
       "      <td>17200.00</td>\n",
       "      <td>17350.0</td>\n",
       "      <td>0.00</td>\n",
       "      <td>36</td>\n",
       "      <td>17200.00</td>\n",
       "      <td>99.0</td>\n",
       "      <td>6550.00</td>\n",
       "      <td>24000.0</td>\n",
       "      <td>1</td>\n",
       "      <td>1.00</td>\n",
       "    </tr>\n",
       "    <tr>\n",
       "      <td>1</td>\n",
       "      <td>63539</td>\n",
       "      <td>13449</td>\n",
       "      <td>0</td>\n",
       "      <td>2000.0</td>\n",
       "      <td>DAEWOO</td>\n",
       "      <td>N</td>\n",
       "      <td>0.0</td>\n",
       "      <td>21.0</td>\n",
       "      <td>240.0</td>\n",
       "      <td>11.0</td>\n",
       "      <td>...</td>\n",
       "      <td>19588.54</td>\n",
       "      <td>19788.0</td>\n",
       "      <td>683.54</td>\n",
       "      <td>60</td>\n",
       "      <td>19588.54</td>\n",
       "      <td>99.0</td>\n",
       "      <td>4666.67</td>\n",
       "      <td>22.0</td>\n",
       "      <td>0</td>\n",
       "      <td>4.75</td>\n",
       "    </tr>\n",
       "    <tr>\n",
       "      <td>2</td>\n",
       "      <td>7328510</td>\n",
       "      <td>14323</td>\n",
       "      <td>1</td>\n",
       "      <td>1998.0</td>\n",
       "      <td>PLYMOUTH</td>\n",
       "      <td>N</td>\n",
       "      <td>7.0</td>\n",
       "      <td>10.0</td>\n",
       "      <td>60.0</td>\n",
       "      <td>NaN</td>\n",
       "      <td>...</td>\n",
       "      <td>13595.00</td>\n",
       "      <td>11450.0</td>\n",
       "      <td>0.00</td>\n",
       "      <td>60</td>\n",
       "      <td>10500.00</td>\n",
       "      <td>92.0</td>\n",
       "      <td>2000.00</td>\n",
       "      <td>19600.0</td>\n",
       "      <td>1</td>\n",
       "      <td>1.00</td>\n",
       "    </tr>\n",
       "    <tr>\n",
       "      <td>3</td>\n",
       "      <td>8725187</td>\n",
       "      <td>15359</td>\n",
       "      <td>1</td>\n",
       "      <td>1997.0</td>\n",
       "      <td>FORD</td>\n",
       "      <td>N</td>\n",
       "      <td>3.0</td>\n",
       "      <td>10.0</td>\n",
       "      <td>35.0</td>\n",
       "      <td>5.0</td>\n",
       "      <td>...</td>\n",
       "      <td>12999.00</td>\n",
       "      <td>12100.0</td>\n",
       "      <td>3099.00</td>\n",
       "      <td>60</td>\n",
       "      <td>10800.00</td>\n",
       "      <td>118.0</td>\n",
       "      <td>1500.00</td>\n",
       "      <td>10000.0</td>\n",
       "      <td>1</td>\n",
       "      <td>1.00</td>\n",
       "    </tr>\n",
       "    <tr>\n",
       "      <td>4</td>\n",
       "      <td>4275127</td>\n",
       "      <td>15812</td>\n",
       "      <td>0</td>\n",
       "      <td>2000.0</td>\n",
       "      <td>TOYOTA</td>\n",
       "      <td>N</td>\n",
       "      <td>0.0</td>\n",
       "      <td>10.0</td>\n",
       "      <td>104.0</td>\n",
       "      <td>2.0</td>\n",
       "      <td>...</td>\n",
       "      <td>26328.04</td>\n",
       "      <td>22024.0</td>\n",
       "      <td>0.00</td>\n",
       "      <td>60</td>\n",
       "      <td>26328.04</td>\n",
       "      <td>122.0</td>\n",
       "      <td>4144.00</td>\n",
       "      <td>14.0</td>\n",
       "      <td>0</td>\n",
       "      <td>4.75</td>\n",
       "    </tr>\n",
       "    <tr>\n",
       "      <td>...</td>\n",
       "      <td>...</td>\n",
       "      <td>...</td>\n",
       "      <td>...</td>\n",
       "      <td>...</td>\n",
       "      <td>...</td>\n",
       "      <td>...</td>\n",
       "      <td>...</td>\n",
       "      <td>...</td>\n",
       "      <td>...</td>\n",
       "      <td>...</td>\n",
       "      <td>...</td>\n",
       "      <td>...</td>\n",
       "      <td>...</td>\n",
       "      <td>...</td>\n",
       "      <td>...</td>\n",
       "      <td>...</td>\n",
       "      <td>...</td>\n",
       "      <td>...</td>\n",
       "      <td>...</td>\n",
       "      <td>...</td>\n",
       "      <td>...</td>\n",
       "    </tr>\n",
       "    <tr>\n",
       "      <td>5840</td>\n",
       "      <td>2291068</td>\n",
       "      <td>10005156</td>\n",
       "      <td>0</td>\n",
       "      <td>1997.0</td>\n",
       "      <td>PORSCHE</td>\n",
       "      <td>N</td>\n",
       "      <td>0.0</td>\n",
       "      <td>21.0</td>\n",
       "      <td>417.0</td>\n",
       "      <td>4.0</td>\n",
       "      <td>...</td>\n",
       "      <td>0.00</td>\n",
       "      <td>31000.0</td>\n",
       "      <td>0.00</td>\n",
       "      <td>36</td>\n",
       "      <td>31000.00</td>\n",
       "      <td>100.0</td>\n",
       "      <td>5000.00</td>\n",
       "      <td>45000.0</td>\n",
       "      <td>1</td>\n",
       "      <td>4.75</td>\n",
       "    </tr>\n",
       "    <tr>\n",
       "      <td>5841</td>\n",
       "      <td>7647192</td>\n",
       "      <td>10005616</td>\n",
       "      <td>0</td>\n",
       "      <td>2000.0</td>\n",
       "      <td>TOYOTA</td>\n",
       "      <td>Y</td>\n",
       "      <td>2.0</td>\n",
       "      <td>8.0</td>\n",
       "      <td>62.0</td>\n",
       "      <td>5.0</td>\n",
       "      <td>...</td>\n",
       "      <td>24970.00</td>\n",
       "      <td>22024.0</td>\n",
       "      <td>0.00</td>\n",
       "      <td>60</td>\n",
       "      <td>24970.00</td>\n",
       "      <td>117.0</td>\n",
       "      <td>2400.00</td>\n",
       "      <td>21.0</td>\n",
       "      <td>0</td>\n",
       "      <td>4.75</td>\n",
       "    </tr>\n",
       "    <tr>\n",
       "      <td>5842</td>\n",
       "      <td>5993246</td>\n",
       "      <td>10006591</td>\n",
       "      <td>0</td>\n",
       "      <td>1997.0</td>\n",
       "      <td>CHEVROLET</td>\n",
       "      <td>N</td>\n",
       "      <td>0.0</td>\n",
       "      <td>6.0</td>\n",
       "      <td>30.0</td>\n",
       "      <td>4.0</td>\n",
       "      <td>...</td>\n",
       "      <td>20949.00</td>\n",
       "      <td>18950.0</td>\n",
       "      <td>0.00</td>\n",
       "      <td>36</td>\n",
       "      <td>20949.00</td>\n",
       "      <td>113.0</td>\n",
       "      <td>1837.50</td>\n",
       "      <td>25000.0</td>\n",
       "      <td>1</td>\n",
       "      <td>4.75</td>\n",
       "    </tr>\n",
       "    <tr>\n",
       "      <td>5843</td>\n",
       "      <td>4766566</td>\n",
       "      <td>10010208</td>\n",
       "      <td>0</td>\n",
       "      <td>1999.0</td>\n",
       "      <td>MERCURY</td>\n",
       "      <td>N</td>\n",
       "      <td>0.0</td>\n",
       "      <td>9.0</td>\n",
       "      <td>67.0</td>\n",
       "      <td>7.0</td>\n",
       "      <td>...</td>\n",
       "      <td>22400.00</td>\n",
       "      <td>28700.0</td>\n",
       "      <td>5300.00</td>\n",
       "      <td>48</td>\n",
       "      <td>17100.00</td>\n",
       "      <td>60.0</td>\n",
       "      <td>28000.00</td>\n",
       "      <td>0.0</td>\n",
       "      <td>0</td>\n",
       "      <td>4.75</td>\n",
       "    </tr>\n",
       "    <tr>\n",
       "      <td>5844</td>\n",
       "      <td>1928782</td>\n",
       "      <td>10010219</td>\n",
       "      <td>0</td>\n",
       "      <td>2000.0</td>\n",
       "      <td>JEEP</td>\n",
       "      <td>N</td>\n",
       "      <td>1.0</td>\n",
       "      <td>34.0</td>\n",
       "      <td>130.0</td>\n",
       "      <td>8.0</td>\n",
       "      <td>...</td>\n",
       "      <td>19609.90</td>\n",
       "      <td>20145.0</td>\n",
       "      <td>0.00</td>\n",
       "      <td>52</td>\n",
       "      <td>19609.90</td>\n",
       "      <td>97.0</td>\n",
       "      <td>2700.00</td>\n",
       "      <td>12.0</td>\n",
       "      <td>0</td>\n",
       "      <td>4.75</td>\n",
       "    </tr>\n",
       "  </tbody>\n",
       "</table>\n",
       "<p>5845 rows × 25 columns</p>\n",
       "</div>"
      ],
      "text/plain": [
       "      application_id  account_number  bad_ind  vehicle_year vehicle_make  \\\n",
       "0            2314049           11613        1        1998.0         FORD   \n",
       "1              63539           13449        0        2000.0       DAEWOO   \n",
       "2            7328510           14323        1        1998.0     PLYMOUTH   \n",
       "3            8725187           15359        1        1997.0         FORD   \n",
       "4            4275127           15812        0        2000.0       TOYOTA   \n",
       "...              ...             ...      ...           ...          ...   \n",
       "5840         2291068        10005156        0        1997.0      PORSCHE   \n",
       "5841         7647192        10005616        0        2000.0       TOYOTA   \n",
       "5842         5993246        10006591        0        1997.0    CHEVROLET   \n",
       "5843         4766566        10010208        0        1999.0      MERCURY   \n",
       "5844         1928782        10010219        0        2000.0         JEEP   \n",
       "\n",
       "     bankruptcy_ind  tot_derog  tot_tr  age_oldest_tr  tot_open_tr  ...  \\\n",
       "0                 N        7.0     9.0           64.0          2.0  ...   \n",
       "1                 N        0.0    21.0          240.0         11.0  ...   \n",
       "2                 N        7.0    10.0           60.0          NaN  ...   \n",
       "3                 N        3.0    10.0           35.0          5.0  ...   \n",
       "4                 N        0.0    10.0          104.0          2.0  ...   \n",
       "...             ...        ...     ...            ...          ...  ...   \n",
       "5840              N        0.0    21.0          417.0          4.0  ...   \n",
       "5841              Y        2.0     8.0           62.0          5.0  ...   \n",
       "5842              N        0.0     6.0           30.0          4.0  ...   \n",
       "5843              N        0.0     9.0           67.0          7.0  ...   \n",
       "5844              N        1.0    34.0          130.0          8.0  ...   \n",
       "\n",
       "      purch_price     msrp  down_pyt  loan_term  loan_amt    ltv  tot_income  \\\n",
       "0        17200.00  17350.0      0.00         36  17200.00   99.0     6550.00   \n",
       "1        19588.54  19788.0    683.54         60  19588.54   99.0     4666.67   \n",
       "2        13595.00  11450.0      0.00         60  10500.00   92.0     2000.00   \n",
       "3        12999.00  12100.0   3099.00         60  10800.00  118.0     1500.00   \n",
       "4        26328.04  22024.0      0.00         60  26328.04  122.0     4144.00   \n",
       "...           ...      ...       ...        ...       ...    ...         ...   \n",
       "5840         0.00  31000.0      0.00         36  31000.00  100.0     5000.00   \n",
       "5841     24970.00  22024.0      0.00         60  24970.00  117.0     2400.00   \n",
       "5842     20949.00  18950.0      0.00         36  20949.00  113.0     1837.50   \n",
       "5843     22400.00  28700.0   5300.00         48  17100.00   60.0    28000.00   \n",
       "5844     19609.90  20145.0      0.00         52  19609.90   97.0     2700.00   \n",
       "\n",
       "      veh_mileage  used_ind  weight  \n",
       "0         24000.0         1    1.00  \n",
       "1            22.0         0    4.75  \n",
       "2         19600.0         1    1.00  \n",
       "3         10000.0         1    1.00  \n",
       "4            14.0         0    4.75  \n",
       "...           ...       ...     ...  \n",
       "5840      45000.0         1    4.75  \n",
       "5841         21.0         0    4.75  \n",
       "5842      25000.0         1    4.75  \n",
       "5843          0.0         0    4.75  \n",
       "5844         12.0         0    4.75  \n",
       "\n",
       "[5845 rows x 25 columns]"
      ]
     },
     "execution_count": 20,
     "metadata": {},
     "output_type": "execute_result"
    }
   ],
   "source": [
    "accepts = pd.read_csv('./accepts.csv')\n",
    "accepts"
   ]
  },
  {
   "cell_type": "code",
   "execution_count": 21,
   "metadata": {},
   "outputs": [
    {
     "data": {
      "text/html": [
       "<div>\n",
       "<style scoped>\n",
       "    .dataframe tbody tr th:only-of-type {\n",
       "        vertical-align: middle;\n",
       "    }\n",
       "\n",
       "    .dataframe tbody tr th {\n",
       "        vertical-align: top;\n",
       "    }\n",
       "\n",
       "    .dataframe thead th {\n",
       "        text-align: right;\n",
       "    }\n",
       "</style>\n",
       "<table border=\"1\" class=\"dataframe\">\n",
       "  <thead>\n",
       "    <tr style=\"text-align: right;\">\n",
       "      <th>bad_ind</th>\n",
       "      <th>0</th>\n",
       "      <th>1</th>\n",
       "      <th>All</th>\n",
       "    </tr>\n",
       "    <tr>\n",
       "      <th>bankruptcy_ind</th>\n",
       "      <th></th>\n",
       "      <th></th>\n",
       "      <th></th>\n",
       "    </tr>\n",
       "  </thead>\n",
       "  <tbody>\n",
       "    <tr>\n",
       "      <td>N</td>\n",
       "      <td>4163</td>\n",
       "      <td>1017</td>\n",
       "      <td>5180</td>\n",
       "    </tr>\n",
       "    <tr>\n",
       "      <td>Y</td>\n",
       "      <td>345</td>\n",
       "      <td>103</td>\n",
       "      <td>448</td>\n",
       "    </tr>\n",
       "    <tr>\n",
       "      <td>All</td>\n",
       "      <td>4508</td>\n",
       "      <td>1120</td>\n",
       "      <td>5628</td>\n",
       "    </tr>\n",
       "  </tbody>\n",
       "</table>\n",
       "</div>"
      ],
      "text/plain": [
       "bad_ind            0     1   All\n",
       "bankruptcy_ind                  \n",
       "N               4163  1017  5180\n",
       "Y                345   103   448\n",
       "All             4508  1120  5628"
      ]
     },
     "execution_count": 21,
     "metadata": {},
     "output_type": "execute_result"
    }
   ],
   "source": [
    "cross_table = pd.crosstab(accepts.bankruptcy_ind,accepts.bad_ind,margins=True)\n",
    "cross_table"
   ]
  },
  {
   "cell_type": "markdown",
   "metadata": {},
   "source": [
    "列联表显示破产状态（bankruptcy_ind = 'Y'）且违约状态正常（bad_ind = 0）的客户有345个，非破产状态bankruptcy_ind = 'N'）且违约状态不正常（bad_ind = 1）的客户相对较少，有103个。"
   ]
  },
  {
   "cell_type": "markdown",
   "metadata": {},
   "source": [
    "由于样本量的不同，频数的差异并不能直接反应离散变量之间的关系，我们需要将其转换为频率。例如将每个频数与行总计相除，就可以得到行百分比。代码如下所示："
   ]
  },
  {
   "cell_type": "code",
   "execution_count": 22,
   "metadata": {},
   "outputs": [
    {
     "data": {
      "text/html": [
       "<div>\n",
       "<style scoped>\n",
       "    .dataframe tbody tr th:only-of-type {\n",
       "        vertical-align: middle;\n",
       "    }\n",
       "\n",
       "    .dataframe tbody tr th {\n",
       "        vertical-align: top;\n",
       "    }\n",
       "\n",
       "    .dataframe thead th {\n",
       "        text-align: right;\n",
       "    }\n",
       "</style>\n",
       "<table border=\"1\" class=\"dataframe\">\n",
       "  <thead>\n",
       "    <tr style=\"text-align: right;\">\n",
       "      <th>bad_ind</th>\n",
       "      <th>0</th>\n",
       "      <th>1</th>\n",
       "      <th>All</th>\n",
       "    </tr>\n",
       "    <tr>\n",
       "      <th>bankruptcy_ind</th>\n",
       "      <th></th>\n",
       "      <th></th>\n",
       "      <th></th>\n",
       "    </tr>\n",
       "  </thead>\n",
       "  <tbody>\n",
       "    <tr>\n",
       "      <td>N</td>\n",
       "      <td>0.803668</td>\n",
       "      <td>0.196332</td>\n",
       "      <td>1.0</td>\n",
       "    </tr>\n",
       "    <tr>\n",
       "      <td>Y</td>\n",
       "      <td>0.770089</td>\n",
       "      <td>0.229911</td>\n",
       "      <td>1.0</td>\n",
       "    </tr>\n",
       "    <tr>\n",
       "      <td>All</td>\n",
       "      <td>0.800995</td>\n",
       "      <td>0.199005</td>\n",
       "      <td>1.0</td>\n",
       "    </tr>\n",
       "  </tbody>\n",
       "</table>\n",
       "</div>"
      ],
      "text/plain": [
       "bad_ind                0         1  All\n",
       "bankruptcy_ind                         \n",
       "N               0.803668  0.196332  1.0\n",
       "Y               0.770089  0.229911  1.0\n",
       "All             0.800995  0.199005  1.0"
      ]
     },
     "execution_count": 22,
     "metadata": {},
     "output_type": "execute_result"
    }
   ],
   "source": [
    "cross_table_rowpct = cross_table.div(cross_table['All'],axis = 0)\n",
    "cross_table_rowpct"
   ]
  },
  {
   "cell_type": "markdown",
   "metadata": {},
   "source": [
    "这样可以看到破产状态的（bankruptcy_ind = 'Y'）的客户违约率为22.9%，非破产状态的客户违约率为19.6%，那么是否能说明是否破产与是否违约不相关呢？\n",
    "\n",
    "实际上在生成列联表后，虽然能对比出差异，但是这种差异是否有统计学意义就需要进行检验了，使用的检验方法是卡方检验，其检验统计量可以从列联表的频数计算得来"
   ]
  },
  {
   "cell_type": "markdown",
   "metadata": {},
   "source": [
    "### 卡方检验的思想在于比较期望频数与实际频数的吻合程度"
   ]
  },
  {
   "cell_type": "markdown",
   "metadata": {},
   "source": [
    "需要注意的是，卡方检验并不能展现两个分类变量相关性的强弱，只能展现两个分类变量是否相关\n",
    "\n",
    "接下来，使用Python对违约与破产两个变量进行卡方检验\n",
    "\n",
    "原假设：   两变量独立，即期望频数 = 实际频数 \n",
    "\n",
    "备择假设： 两变量相关"
   ]
  },
  {
   "cell_type": "code",
   "execution_count": 24,
   "metadata": {},
   "outputs": [
    {
     "name": "stdout",
     "output_type": "stream",
     "text": [
      "chisp = 2.9167\n",
      " p-value = 0.5719\n",
      " dof = 4\n",
      " expected_exp = [[4149.15422886 1030.84577114 5180.        ]\n",
      " [ 358.84577114   89.15422886  448.        ]\n",
      " [4508.         1120.         5628.        ]]\n"
     ]
    }
   ],
   "source": [
    "print('chisp = %6.4f\\n p-value = %6.4f\\n dof = %i\\n expected_exp = %s'%stats.chi2_contingency(cross_table))"
   ]
  },
  {
   "cell_type": "markdown",
   "metadata": {},
   "source": [
    "检验结果表明：卡方值为2.9167，P值为0.57，表明没有理由拒绝原假设，即二者没有关系"
   ]
  },
  {
   "cell_type": "code",
   "execution_count": null,
   "metadata": {},
   "outputs": [],
   "source": []
  }
 ],
 "metadata": {
  "kernelspec": {
   "display_name": "Python 3",
   "language": "python",
   "name": "python3"
  }
 },
 "nbformat": 4,
 "nbformat_minor": 2
}
